{
 "cells": [
  {
   "metadata": {},
   "cell_type": "markdown",
   "source": ""
  },
  {
   "metadata": {},
   "cell_type": "code",
   "outputs": [],
   "execution_count": null,
   "source": [
    "# 📈 Stock Regression Predictor\n",
    "\n",
    "**Author:** Deep Joshi\n",
    "\n",
    "**Created On:** May 21, 2025\n",
    "\n",
    "**Project Type:** Machine Learning / Data Science / PyTorch\n",
    "\n",
    "**Environment:** Jupyter Notebook (Python 3.13)\n",
    "\n",
    "---\n",
    "\n",
    "## 📝 Project Description\n",
    "\n",
    "\n",
    "\n",
    "---\n",
    "\n",
    "## 🔧 Technologies Used\n",
    "\n",
    "- Python 3.x\n",
    "- NumPy, Pandas\n",
    "- Matplotlib\n",
    "- PyTorch\n",
    "- Jupyter Notebook\n",
    "\n",
    "---"
   ]
  },
  {
   "cell_type": "code",
   "metadata": {
    "tags": [],
    "ExecuteTime": {
     "end_time": "2025-05-21T12:20:40.011023Z",
     "start_time": "2025-05-21T12:20:12.347394Z"
    }
   },
   "source": [
    "import torch\n",
    "from torch import nn\n",
    "from torch.utils.data import DataLoader\n",
    "from torchvision import datasets\n",
    "from torchvision.transforms import ToTensor"
   ],
   "outputs": [],
   "execution_count": 2
  },
  {
   "cell_type": "code",
   "metadata": {
    "tags": [],
    "ExecuteTime": {
     "end_time": "2025-05-21T12:20:52.464709Z",
     "start_time": "2025-05-21T12:20:52.158153Z"
    }
   },
   "source": [
    "# Download training data from MNIST datasets.\n",
    "training_data = datasets.MNIST(\n",
    "    root=\"data\",\n",
    "    train=True,\n",
    "    download=True,\n",
    "    transform=ToTensor(),\n",
    ")\n",
    "\n",
    "# Download test data from open datasets.\n",
    "test_data = datasets.MNIST(\n",
    "    root=\"data\",\n",
    "    train=False,\n",
    "    download=True,\n",
    "    transform=ToTensor(),\n",
    ")\n",
    "\n",
    "batch_size = 64\n",
    "\n",
    "# Create data loaders to iterate over data\n",
    "train_dataloader = DataLoader(training_data, batch_size=batch_size)\n",
    "test_dataloader = DataLoader(test_data, batch_size=batch_size)\n",
    "\n",
    "print(\"Training data size:\", len(train_dataloader) * batch_size)\n",
    "print(\"Test data size:\", len(test_dataloader) * batch_size)\n",
    "\n",
    "for X, y in test_dataloader:\n",
    "    print(f\"Shape of X [N, C, H, W]: {X.shape}\")\n",
    "    print(f\"Shape of y: {y.shape} {y.dtype}\")\n",
    "    break"
   ],
   "outputs": [
    {
     "name": "stdout",
     "output_type": "stream",
     "text": [
      "Training data size: 60032\n",
      "Test data size: 10048\n",
      "Shape of X [N, C, H, W]: torch.Size([64, 1, 28, 28])\n",
      "Shape of y: torch.Size([64]) torch.int64\n"
     ]
    }
   ],
   "execution_count": 3
  },
  {
   "cell_type": "code",
   "metadata": {
    "tags": [],
    "ExecuteTime": {
     "end_time": "2025-05-21T12:20:55.409738Z",
     "start_time": "2025-05-21T12:20:55.376269Z"
    }
   },
   "source": [
    "# Get device for training.\n",
    "device = torch.device(\n",
    "    \"cuda\" if torch.cuda.is_available()\n",
    "    else \"mps\" if torch.backends.mps.is_available() # Apple Silicon GPU\n",
    "    else \"cpu\"\n",
    ")\n",
    "print(f\"Using {device} device\")\n",
    "\n",
    "# Define model\n",
    "class NeuralNetwork(nn.Module):\n",
    "    def __init__(self, input_size, hidden_size, num_classes):\n",
    "        super().__init__()\n",
    "        self.flatten = nn.Flatten()\n",
    "        self.linear_relu_stack = nn.Sequential(\n",
    "            nn.Linear(input_size, hidden_size),\n",
    "            nn.ReLU(),\n",
    "            nn.Linear(hidden_size, hidden_size),\n",
    "            nn.ReLU(),\n",
    "            nn.Linear(hidden_size, num_classes)\n",
    "        )\n",
    "\n",
    "    def forward(self, image_tensor):\n",
    "        image_tensor = self.flatten(image_tensor)\n",
    "        logits = self.linear_relu_stack(image_tensor)\n",
    "        return logits\n",
    "\n",
    "input_size = 28*28\n",
    "hidden_size = 512\n",
    "num_classes = 10\n",
    "\n",
    "model = NeuralNetwork(input_size, hidden_size, num_classes).to(device)\n",
    "print(model)"
   ],
   "outputs": [
    {
     "name": "stdout",
     "output_type": "stream",
     "text": [
      "Using cpu device\n",
      "NeuralNetwork(\n",
      "  (flatten): Flatten(start_dim=1, end_dim=-1)\n",
      "  (linear_relu_stack): Sequential(\n",
      "    (0): Linear(in_features=784, out_features=512, bias=True)\n",
      "    (1): ReLU()\n",
      "    (2): Linear(in_features=512, out_features=512, bias=True)\n",
      "    (3): ReLU()\n",
      "    (4): Linear(in_features=512, out_features=10, bias=True)\n",
      "  )\n",
      ")\n"
     ]
    }
   ],
   "execution_count": 4
  },
  {
   "cell_type": "code",
   "metadata": {
    "ExecuteTime": {
     "end_time": "2025-05-21T12:20:59.267842Z",
     "start_time": "2025-05-21T12:20:59.259897Z"
    }
   },
   "source": [
    "# Define our learning rate, loss function and optimizer\n",
    "learning_rate = 1e-3 # 0.001\n",
    "loss_fn = nn.CrossEntropyLoss()\n",
    "optimizer = torch.optim.Adam(model.parameters(), lr=learning_rate)\n",
    "\n",
    "# Let's define our training function \n",
    "def train(dataloader, model, loss_fn, optimizer):\n",
    "    size = len(dataloader.dataset)\n",
    "    model.train()\n",
    "\n",
    "    for batch_num, (X, y) in enumerate(dataloader):\n",
    "        X, y = X.to(device), y.to(device)\n",
    "\n",
    "        # Forward pass to compute prediction\n",
    "        pred = model(X)\n",
    "        # Compute prediction error using loss function\n",
    "        loss = loss_fn(pred, y)\n",
    "\n",
    "        # Backward pass\n",
    "        optimizer.zero_grad() # zero any previous gradient calculations\n",
    "        loss.backward() # calculate gradient\n",
    "        optimizer.step() # update model parameters\n",
    "        \n",
    "        if batch_num > 0 and batch_num % 100 == 0:\n",
    "            loss, current = loss.item(), batch_num * len(X)\n",
    "            print(f\"loss: {loss:>7f}  [{current:>5d}/{size:>5d}]\")"
   ],
   "outputs": [],
   "execution_count": 5
  },
  {
   "cell_type": "code",
   "metadata": {
    "ExecuteTime": {
     "end_time": "2025-05-21T12:21:00.985170Z",
     "start_time": "2025-05-21T12:21:00.963973Z"
    }
   },
   "source": [
    "# Our test function\n",
    "def test(dataloader, model, loss_fn):\n",
    "    size = len(dataloader.dataset)\n",
    "    num_batches = len(dataloader)\n",
    "    model.eval()\n",
    "    test_loss, correct = 0, 0\n",
    "    for X, y in dataloader:\n",
    "        X, y = X.to(device), y.to(device)\n",
    "        pred = model(X)\n",
    "        test_loss += loss_fn(pred, y).item()\n",
    "        correct += (pred.argmax(1) == y).type(torch.float).sum().item()\n",
    "    test_loss /= num_batches\n",
    "    correct /= size\n",
    "    print(f\"Test Error: \\n Accuracy: {(100*correct):>0.1f}%, Avg loss: {test_loss:>8f} \\n\")"
   ],
   "outputs": [],
   "execution_count": 6
  },
  {
   "cell_type": "code",
   "metadata": {
    "ExecuteTime": {
     "end_time": "2025-05-21T12:24:50.273452Z",
     "start_time": "2025-05-21T12:21:01.981092Z"
    }
   },
   "source": [
    "# Let's run training\n",
    "epochs = 10\n",
    "for t in range(epochs):\n",
    "    print(f\"Epoch {t+1}\\n-------------------------------\")\n",
    "    train(train_dataloader, model, loss_fn, optimizer)\n",
    "    test(test_dataloader, model, loss_fn)\n",
    "print(\"Done!\")"
   ],
   "outputs": [
    {
     "name": "stdout",
     "output_type": "stream",
     "text": [
      "Epoch 1\n",
      "-------------------------------\n",
      "loss: 0.273877  [ 6400/60000]\n",
      "loss: 0.200808  [12800/60000]\n",
      "loss: 0.223440  [19200/60000]\n",
      "loss: 0.123712  [25600/60000]\n",
      "loss: 0.321525  [32000/60000]\n",
      "loss: 0.118415  [38400/60000]\n",
      "loss: 0.231936  [44800/60000]\n",
      "loss: 0.234408  [51200/60000]\n",
      "loss: 0.152175  [57600/60000]\n",
      "Test Error: \n",
      " Accuracy: 95.5%, Avg loss: 0.143679 \n",
      "\n",
      "Epoch 2\n",
      "-------------------------------\n",
      "loss: 0.085285  [ 6400/60000]\n",
      "loss: 0.105386  [12800/60000]\n",
      "loss: 0.080966  [19200/60000]\n",
      "loss: 0.054475  [25600/60000]\n",
      "loss: 0.119879  [32000/60000]\n",
      "loss: 0.051503  [38400/60000]\n",
      "loss: 0.121248  [44800/60000]\n",
      "loss: 0.103743  [51200/60000]\n",
      "loss: 0.126083  [57600/60000]\n",
      "Test Error: \n",
      " Accuracy: 96.4%, Avg loss: 0.110388 \n",
      "\n",
      "Epoch 3\n",
      "-------------------------------\n",
      "loss: 0.057731  [ 6400/60000]\n",
      "loss: 0.041559  [12800/60000]\n",
      "loss: 0.099485  [19200/60000]\n",
      "loss: 0.063756  [25600/60000]\n",
      "loss: 0.034899  [32000/60000]\n",
      "loss: 0.018370  [38400/60000]\n",
      "loss: 0.069467  [44800/60000]\n",
      "loss: 0.096589  [51200/60000]\n",
      "loss: 0.118928  [57600/60000]\n",
      "Test Error: \n",
      " Accuracy: 96.7%, Avg loss: 0.123890 \n",
      "\n",
      "Epoch 4\n",
      "-------------------------------\n",
      "loss: 0.034818  [ 6400/60000]\n",
      "loss: 0.021322  [12800/60000]\n",
      "loss: 0.028447  [19200/60000]\n",
      "loss: 0.080661  [25600/60000]\n",
      "loss: 0.066380  [32000/60000]\n",
      "loss: 0.063304  [38400/60000]\n",
      "loss: 0.021944  [44800/60000]\n",
      "loss: 0.106495  [51200/60000]\n",
      "loss: 0.034409  [57600/60000]\n",
      "Test Error: \n",
      " Accuracy: 97.1%, Avg loss: 0.106671 \n",
      "\n",
      "Epoch 5\n",
      "-------------------------------\n",
      "loss: 0.038332  [ 6400/60000]\n",
      "loss: 0.049872  [12800/60000]\n",
      "loss: 0.071456  [19200/60000]\n",
      "loss: 0.057892  [25600/60000]\n",
      "loss: 0.026717  [32000/60000]\n",
      "loss: 0.010758  [38400/60000]\n",
      "loss: 0.020463  [44800/60000]\n",
      "loss: 0.034139  [51200/60000]\n",
      "loss: 0.047931  [57600/60000]\n",
      "Test Error: \n",
      " Accuracy: 93.8%, Avg loss: 0.300880 \n",
      "\n",
      "Epoch 6\n",
      "-------------------------------\n",
      "loss: 0.015672  [ 6400/60000]\n",
      "loss: 0.214787  [12800/60000]\n",
      "loss: 0.019964  [19200/60000]\n",
      "loss: 0.012923  [25600/60000]\n",
      "loss: 0.033054  [32000/60000]\n",
      "loss: 0.001298  [38400/60000]\n",
      "loss: 0.007215  [44800/60000]\n",
      "loss: 0.104067  [51200/60000]\n",
      "loss: 0.012935  [57600/60000]\n",
      "Test Error: \n",
      " Accuracy: 97.3%, Avg loss: 0.120062 \n",
      "\n",
      "Epoch 7\n",
      "-------------------------------\n",
      "loss: 0.020922  [ 6400/60000]\n",
      "loss: 0.020549  [12800/60000]\n",
      "loss: 0.014108  [19200/60000]\n",
      "loss: 0.007159  [25600/60000]\n",
      "loss: 0.005039  [32000/60000]\n",
      "loss: 0.009589  [38400/60000]\n",
      "loss: 0.005623  [44800/60000]\n",
      "loss: 0.183994  [51200/60000]\n",
      "loss: 0.009729  [57600/60000]\n",
      "Test Error: \n",
      " Accuracy: 97.3%, Avg loss: 0.111450 \n",
      "\n",
      "Epoch 8\n",
      "-------------------------------\n",
      "loss: 0.024200  [ 6400/60000]\n",
      "loss: 0.194076  [12800/60000]\n",
      "loss: 0.002114  [19200/60000]\n",
      "loss: 0.006778  [25600/60000]\n",
      "loss: 0.036538  [32000/60000]\n",
      "loss: 0.005961  [38400/60000]\n",
      "loss: 0.004763  [44800/60000]\n",
      "loss: 0.184498  [51200/60000]\n",
      "loss: 0.031604  [57600/60000]\n",
      "Test Error: \n",
      " Accuracy: 97.8%, Avg loss: 0.099654 \n",
      "\n",
      "Epoch 9\n",
      "-------------------------------\n",
      "loss: 0.010935  [ 6400/60000]\n",
      "loss: 0.044546  [12800/60000]\n",
      "loss: 0.081089  [19200/60000]\n",
      "loss: 0.004077  [25600/60000]\n",
      "loss: 0.014478  [32000/60000]\n",
      "loss: 0.038936  [38400/60000]\n",
      "loss: 0.067031  [44800/60000]\n",
      "loss: 0.038132  [51200/60000]\n",
      "loss: 0.010962  [57600/60000]\n",
      "Test Error: \n",
      " Accuracy: 97.9%, Avg loss: 0.100194 \n",
      "\n",
      "Epoch 10\n",
      "-------------------------------\n",
      "loss: 0.003206  [ 6400/60000]\n",
      "loss: 0.015327  [12800/60000]\n",
      "loss: 0.000086  [19200/60000]\n",
      "loss: 0.026160  [25600/60000]\n",
      "loss: 0.006766  [32000/60000]\n",
      "loss: 0.000044  [38400/60000]\n",
      "loss: 0.023355  [44800/60000]\n",
      "loss: 0.028273  [51200/60000]\n",
      "loss: 0.011640  [57600/60000]\n",
      "Test Error: \n",
      " Accuracy: 98.2%, Avg loss: 0.092496 \n",
      "\n",
      "Done!\n"
     ]
    }
   ],
   "execution_count": 7
  },
  {
   "cell_type": "code",
   "metadata": {
    "ExecuteTime": {
     "end_time": "2025-05-21T12:24:50.397204Z",
     "start_time": "2025-05-21T12:24:50.312891Z"
    }
   },
   "source": [
    "# Save our model parameters\n",
    "# torch.save(model.state_dict(), \"ml_with_pytorch_model.pth\")\n",
    "# print(\"Saved PyTorch Model State to ml_with_pytorch_model.pth\")\n",
    "\n",
    "# Load the saved model parameters into a new instance of the model\n",
    "model = NeuralNetwork(input_size, hidden_size, num_classes).to(device)\n",
    "model.load_state_dict(torch.load(\"ml_with_pytorch_model.pth\", weights_only=True))\n",
    "\n",
    "# Inference using the new model instance\n",
    "model.eval()\n",
    "i=0\n",
    "# for i in range(50):\n",
    "while (i <= 20):\n",
    "    x, y = test_data[i][0], test_data[i][1]\n",
    "\n",
    "    x = x.to(device)\n",
    "    pred = model(x)\n",
    "    predicted, actual = pred[0].argmax(0).item(), y\n",
    "    if predicted == actual:\n",
    "        i = i + 1\n",
    "    print(f'Predicted: \"{predicted}\", Actual: \"{actual}\"')"
   ],
   "outputs": [
    {
     "name": "stdout",
     "output_type": "stream",
     "text": [
      "Predicted: \"7\", Actual: \"7\"\n",
      "Predicted: \"2\", Actual: \"2\"\n",
      "Predicted: \"1\", Actual: \"1\"\n",
      "Predicted: \"0\", Actual: \"0\"\n",
      "Predicted: \"4\", Actual: \"4\"\n",
      "Predicted: \"1\", Actual: \"1\"\n",
      "Predicted: \"4\", Actual: \"4\"\n",
      "Predicted: \"9\", Actual: \"9\"\n",
      "Predicted: \"5\", Actual: \"5\"\n",
      "Predicted: \"9\", Actual: \"9\"\n",
      "Predicted: \"0\", Actual: \"0\"\n",
      "Predicted: \"6\", Actual: \"6\"\n",
      "Predicted: \"9\", Actual: \"9\"\n",
      "Predicted: \"0\", Actual: \"0\"\n",
      "Predicted: \"1\", Actual: \"1\"\n",
      "Predicted: \"5\", Actual: \"5\"\n",
      "Predicted: \"9\", Actual: \"9\"\n",
      "Predicted: \"7\", Actual: \"7\"\n",
      "Predicted: \"3\", Actual: \"3\"\n",
      "Predicted: \"4\", Actual: \"4\"\n",
      "Predicted: \"9\", Actual: \"9\"\n"
     ]
    }
   ],
   "execution_count": 8
  },
  {
   "metadata": {
    "ExecuteTime": {
     "end_time": "2025-05-20T10:47:23.350471Z",
     "start_time": "2025-05-20T10:47:23.309849Z"
    }
   },
   "cell_type": "code",
   "source": [
    "from torchsummary import summary\n",
    "summary(model, input_size=(1, 28, 28))  # 1 channel = grayscale\n"
   ],
   "outputs": [
    {
     "name": "stdout",
     "output_type": "stream",
     "text": [
      "----------------------------------------------------------------\n",
      "        Layer (type)               Output Shape         Param #\n",
      "================================================================\n",
      "           Flatten-1                  [-1, 784]               0\n",
      "            Linear-2                  [-1, 512]         401,920\n",
      "              ReLU-3                  [-1, 512]               0\n",
      "            Linear-4                  [-1, 512]         262,656\n",
      "              ReLU-5                  [-1, 512]               0\n",
      "            Linear-6                   [-1, 10]           5,130\n",
      "================================================================\n",
      "Total params: 669,706\n",
      "Trainable params: 669,706\n",
      "Non-trainable params: 0\n",
      "----------------------------------------------------------------\n",
      "Input size (MB): 0.00\n",
      "Forward/backward pass size (MB): 0.02\n",
      "Params size (MB): 2.55\n",
      "Estimated Total Size (MB): 2.58\n",
      "----------------------------------------------------------------\n"
     ]
    }
   ],
   "execution_count": 18
  },
  {
   "metadata": {
    "ExecuteTime": {
     "end_time": "2025-05-20T10:46:22.989941Z",
     "start_time": "2025-05-20T10:46:19.464283Z"
    }
   },
   "cell_type": "code",
   "source": [
    "import matplotlib.pyplot as plt\n",
    "\n",
    "for name, param in model.named_parameters():\n",
    "    if \"weight\" in name:\n",
    "        plt.hist(param.data.cpu().numpy().flatten(), bins=100)\n",
    "        plt.title(name)\n",
    "        plt.show()\n"
   ],
   "outputs": [
    {
     "data": {
      "text/plain": [
       "<Figure size 640x480 with 1 Axes>"
      ],
      "image/png": "[encoded data removed]"
     },
     "metadata": {},
     "output_type": "display_data"
    },
    {
     "data": {
      "text/plain": [
       "<Figure size 640x480 with 1 Axes>"
      ],
      "image/png": "[encoded data removed]"
     },
     "metadata": {},
     "output_type": "display_data"
    },
    {
     "data": {
      "text/plain": [
       "<Figure size 640x480 with 1 Axes>"
      ],
      "image/png": "[encoded data removed]"
     },
     "metadata": {},
     "output_type": "display_data"
    }
   ],
   "execution_count": 16
  },
  {
   "metadata": {},
   "cell_type": "code",
   "outputs": [],
   "execution_count": null,
   "source": [
    "from    torchviz import make_dot\n",
    "import torch\n",
    "\n",
    "# Dummy input\n",
    "x = torch.randn(1, 1, 28, 28).to(device)  # 1 grayscale image\n",
    "\n",
    "# Forward pass\n",
    "y = model(x)\n",
    "\n",
    "# Visualize\n",
    "dot = make_dot(y, params=dict(model.named_parameters()))\n",
    "dot.format = \"png\"\n",
    "dot.render(\"neural_network_visualization\")\n"
   ]
  }
 ],
 "metadata": {
  "kernelspec": {
   "display_name": "Python 3 (ipykernel)",
   "language": "python",
   "name": "python3"
  },
  "language_info": {
   "codemirror_mode": {
    "name": "ipython",
    "version": 3
   },
   "file_extension": ".py",
   "mimetype": "text/x-python",
   "name": "python",
   "nbconvert_exporter": "python",
   "pygments_lexer": "ipython3",
   "version": "3.7.12"
  }
 },
 "nbformat": 4,
 "nbformat_minor": 4
}
