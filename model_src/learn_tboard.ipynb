{
 "cells": [
  {
   "cell_type": "code",
   "id": "initial_id",
   "metadata": {
    "collapsed": true,
    "ExecuteTime": {
     "end_time": "2025-05-29T09:44:41.574691Z",
     "start_time": "2025-05-29T09:44:32.447542Z"
    }
   },
   "source": [
    "import torch\n",
    "import torch.nn as nn\n",
    "import torch.nn.functional as F\n",
    "import torch.optim as optim\n",
    "from torchvision import datasets, transforms\n",
    "from torch.utils.tensorboard import SummaryWriter\n",
    "import os"
   ],
   "outputs": [],
   "execution_count": 2
  },
  {
   "metadata": {
    "ExecuteTime": {
     "end_time": "2025-05-29T09:44:48.038432Z",
     "start_time": "2025-05-29T09:44:48.031687Z"
    }
   },
   "cell_type": "code",
   "source": [
    "# Set up TensorBoard log directory\n",
    "log_dir = \"runs/mnist_experiment\"\n",
    "writer = SummaryWriter(log_dir)"
   ],
   "id": "2420d343dcc45740",
   "outputs": [],
   "execution_count": 3
  },
  {
   "metadata": {
    "ExecuteTime": {
     "end_time": "2025-05-29T09:44:50.796679Z",
     "start_time": "2025-05-29T09:44:50.792670Z"
    }
   },
   "cell_type": "code",
   "source": [
    "# Hyperparameters\n",
    "batch_size = 64\n",
    "learning_rate = 0.01\n",
    "epochs = 5"
   ],
   "id": "9d0513d4da109eb2",
   "outputs": [],
   "execution_count": 4
  },
  {
   "metadata": {
    "ExecuteTime": {
     "end_time": "2025-05-29T09:44:51.700132Z",
     "start_time": "2025-05-29T09:44:51.695584Z"
    }
   },
   "cell_type": "code",
   "source": [
    "# MNIST dataset\n",
    "transform = transforms.Compose([\n",
    "    transforms.ToTensor(),\n",
    "    transforms.Normalize((0.1307,), (0.3081,))\n",
    "])"
   ],
   "id": "5156bf5b230a5d81",
   "outputs": [],
   "execution_count": 5
  },
  {
   "metadata": {
    "ExecuteTime": {
     "end_time": "2025-05-29T09:45:05.055671Z",
     "start_time": "2025-05-29T09:44:52.460067Z"
    }
   },
   "cell_type": "code",
   "source": [
    "train_dataset = datasets.MNIST('../data', train=True, download=True, transform=transform)\n",
    "test_dataset = datasets.MNIST('../data', train=False, download=True, transform=transform)"
   ],
   "id": "401c8a86b3b1b68d",
   "outputs": [
    {
     "name": "stderr",
     "output_type": "stream",
     "text": [
      "100%|██████████| 9.91M/9.91M [00:04<00:00, 2.30MB/s]\n",
      "100%|██████████| 28.9k/28.9k [00:00<00:00, 124kB/s]\n",
      "100%|██████████| 1.65M/1.65M [00:01<00:00, 1.02MB/s]\n",
      "100%|██████████| 4.54k/4.54k [00:00<00:00, 13.8MB/s]\n"
     ]
    }
   ],
   "execution_count": 6
  },
  {
   "metadata": {
    "ExecuteTime": {
     "end_time": "2025-05-29T09:45:24.153380Z",
     "start_time": "2025-05-29T09:45:24.149303Z"
    }
   },
   "cell_type": "code",
   "source": [
    "train_loader = torch.utils.data.DataLoader(train_dataset, batch_size=batch_size, shuffle=True)\n",
    "test_loader = torch.utils.data.DataLoader(test_dataset, batch_size=1000, shuffle=False)"
   ],
   "id": "a760bb8a4978414c",
   "outputs": [],
   "execution_count": 7
  },
  {
   "metadata": {
    "ExecuteTime": {
     "end_time": "2025-05-29T09:45:25.307008Z",
     "start_time": "2025-05-29T09:45:25.291071Z"
    }
   },
   "cell_type": "code",
   "source": [
    "# Define a simple neural network\n",
    "class Net(nn.Module):\n",
    "    def __init__(self):\n",
    "        super(Net, self).__init__()\n",
    "        self.fc1 = nn.Linear(28 * 28, 128)\n",
    "        self.fc2 = nn.Linear(128, 10)\n",
    "\n",
    "    def forward(self, x):\n",
    "        x = x.view(-1, 28 * 28)\n",
    "        x = F.relu(self.fc1(x))\n",
    "        x = self.fc2(x)\n",
    "        return x\n",
    "\n",
    "\n",
    "model = Net()\n",
    "optimizer = optim.SGD(model.parameters(), lr=learning_rate)"
   ],
   "id": "5f874c39be5d8c7",
   "outputs": [],
   "execution_count": 8
  },
  {
   "metadata": {
    "ExecuteTime": {
     "end_time": "2025-05-29T09:45:48.218615Z",
     "start_time": "2025-05-29T09:45:30.761076Z"
    }
   },
   "cell_type": "code",
   "source": [
    "# Training loop\n",
    "for epoch in range(epochs):\n",
    "    model.train()\n",
    "total_loss = 0\n",
    "correct = 0\n",
    "\n",
    "for batch_idx, (data, target) in enumerate(train_loader):\n",
    "    optimizer.zero_grad()\n",
    "    output = model(data)\n",
    "    loss = F.cross_entropy(output, target)\n",
    "    loss.backward()\n",
    "    optimizer.step()\n",
    "\n",
    "    total_loss += loss.item()\n",
    "    pred = output.argmax(dim=1, keepdim=True)\n",
    "    correct += pred.eq(target.view_as(pred)).sum().item()\n",
    "\n",
    "avg_loss = total_loss / len(train_loader)\n",
    "accuracy = correct / len(train_loader.dataset)"
   ],
   "id": "2ad33cdb7410f0cb",
   "outputs": [],
   "execution_count": 9
  },
  {
   "metadata": {
    "ExecuteTime": {
     "end_time": "2025-05-29T09:46:24.089011Z",
     "start_time": "2025-05-29T09:46:24.083289Z"
    }
   },
   "cell_type": "code",
   "source": [
    " # Log to TensorBoard\n",
    "writer.add_scalar('Loss/train', avg_loss, epoch)\n",
    "writer.add_scalar('Accuracy/train', accuracy, epoch)\n",
    "print(f\"Epoch {epoch + 1}: Loss={avg_loss:.4f}, Accuracy={accuracy:.4f}\")"
   ],
   "id": "aa47e7dca383d210",
   "outputs": [
    {
     "name": "stdout",
     "output_type": "stream",
     "text": [
      "Epoch 5: Loss=0.5875, Accuracy=0.8481\n"
     ]
    }
   ],
   "execution_count": 10
  },
  {
   "metadata": {
    "ExecuteTime": {
     "end_time": "2025-05-29T09:46:57.845694Z",
     "start_time": "2025-05-29T09:46:57.838581Z"
    }
   },
   "cell_type": "code",
   "source": [
    "# Save the trained model\n",
    "model_path = \"../models/mnist_model.pth\"\n",
    "os.makedirs(os.path.dirname(model_path), exist_ok=True)\n",
    "torch.save(model.state_dict(), model_path)\n",
    "print(f\"Model saved to: {model_path}\")"
   ],
   "id": "9f15bd86f2c5b3d0",
   "outputs": [
    {
     "name": "stdout",
     "output_type": "stream",
     "text": [
      "Model saved to: ../models/mnist_model.pth\n"
     ]
    }
   ],
   "execution_count": 16
  },
  {
   "metadata": {
    "ExecuteTime": {
     "end_time": "2025-05-29T09:50:55.550333Z",
     "start_time": "2025-05-29T09:50:55.528040Z"
    }
   },
   "cell_type": "code",
   "source": [
    "# Evaluate the model\n",
    "model = Net()\n",
    "model.load_state_dict(torch.load(\"../models/mnist_model.pth\"))\n",
    "model.eval()"
   ],
   "id": "a64c2d58323318bd",
   "outputs": [
    {
     "data": {
      "text/plain": [
       "Net(\n",
       "  (fc1): Linear(in_features=784, out_features=128, bias=True)\n",
       "  (fc2): Linear(in_features=128, out_features=10, bias=True)\n",
       ")"
      ]
     },
     "execution_count": 19,
     "metadata": {},
     "output_type": "execute_result"
    }
   ],
   "execution_count": 19
  },
  {
   "metadata": {},
   "cell_type": "code",
   "outputs": [],
   "execution_count": null,
   "source": "",
   "id": "13140dd72529f960"
  }
 ],
 "metadata": {
  "kernelspec": {
   "display_name": "Python 3",
   "language": "python",
   "name": "python3"
  },
  "language_info": {
   "codemirror_mode": {
    "name": "ipython",
    "version": 2
   },
   "file_extension": ".py",
   "mimetype": "text/x-python",
   "name": "python",
   "nbconvert_exporter": "python",
   "pygments_lexer": "ipython2",
   "version": "2.7.6"
  }
 },
 "nbformat": 4,
 "nbformat_minor": 5
}
